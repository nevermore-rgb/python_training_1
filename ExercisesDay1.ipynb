{
 "cells": [
  {
   "cell_type": "markdown",
   "metadata": {},
   "source": [
    "# Exercises:"
   ]
  },
  {
   "cell_type": "markdown",
   "metadata": {},
   "source": [
    "### Complete the code to print out Hello Python! in a formatted string."
   ]
  },
  {
   "cell_type": "code",
   "execution_count": 9,
   "metadata": {},
   "outputs": [
    {
     "name": "stdout",
     "output_type": "stream",
     "text": [
      "Hello Python!\n"
     ]
    }
   ],
   "source": [
    "message = \"Python\"\n",
    "Greeting = \"Hello {}!\" \n",
    "print(Greeting.format(message))"
   ]
  },
  {
   "cell_type": "markdown",
   "metadata": {},
   "source": [
    "### Correct the following code to:\n",
    "\n",
    "- Perform the arithmetic operation on a and b.\n",
    "- Perform concatenation on a and b."
   ]
  },
  {
   "cell_type": "code",
   "execution_count": 13,
   "metadata": {},
   "outputs": [
    {
     "name": "stdout",
     "output_type": "stream",
     "text": [
      "15.0\n",
      "510\n"
     ]
    }
   ],
   "source": [
    "a = 5\n",
    "b = \"10\"\n",
    "\n",
    "# perform addition expected output is 15\n",
    "addition = float(a) + float(b)\n",
    "print(addition)\n",
    "\n",
    "# perform concatenation expected output is 510\n",
    "concatenation = str(a) + str(b)\n",
    "print(concatenation)"
   ]
  },
  {
   "cell_type": "markdown",
   "metadata": {},
   "source": [
    "### Complete the code to extract and print out the domain name from the email address."
   ]
  },
  {
   "cell_type": "code",
   "execution_count": 20,
   "metadata": {},
   "outputs": [
    {
     "name": "stdout",
     "output_type": "stream",
     "text": [
      "estarta.com\n"
     ]
    }
   ],
   "source": [
    "email = \"python_dev@estarta.com\"\n",
    "\n",
    "# extract domain from email\n",
    "domain = email[email.find('@')+1:]\n",
    "print(domain)"
   ]
  },
  {
   "cell_type": "markdown",
   "metadata": {},
   "source": [
    "### Perform the following operations on the \"Cars\" list:"
   ]
  },
  {
   "cell_type": "code",
   "execution_count": 43,
   "metadata": {},
   "outputs": [
    {
     "name": "stdout",
     "output_type": "stream",
     "text": [
      "['Ford', 'BMW', 'Jeep', 'Honda']\n",
      "False\n",
      "True\n"
     ]
    }
   ],
   "source": [
    "cars = [\"Toyota\", \"Mercedes\", \"BMW\", \"Jeep\"]\n",
    "\n",
    "# add \"Honda\" to the list\n",
    "new_model = \"Honda\"\n",
    "\n",
    "cars.append(new_model)\n",
    "\n",
    "# replace the second element with \"Ford\"\n",
    "cars[1] = \"Ford\"\n",
    "\n",
    "# remove Toyota from the list\n",
    "try:\n",
    "    cars.remove(\"Toyota\")\n",
    "except:\n",
    "    print(\"Toyota not found.\")\n",
    "\n",
    "print(cars)\n",
    "\n",
    "# print True if Subaru is in the list else False\n",
    "print(\"Subaru\" in cars)\n",
    "\n",
    "new_model = \"Subaru\"\n",
    "\n",
    "cars.append(new_model)\n",
    "\n",
    "print(\"Subaru\" in cars)\n",
    "\n",
    "\n",
    "\n"
   ]
  },
  {
   "cell_type": "markdown",
   "metadata": {},
   "source": [
    "### Complete the code to do the following:\n",
    "\n",
    "- Create a new dictionary with the following key-value pairs: \"name\": \"Ahmad\", \"age\": 25, \"occupation\": \"doctor\", \"country\": \"Jordan\"\n",
    "- Add a new key-value pair with \"city\": \"Amman\"\n",
    "- Update the occupation to \"Surgeon\"\n",
    "- Remove the \"country\" key-value pair from the dictionary.\n",
    "- print out the updated dictionary."
   ]
  },
  {
   "cell_type": "code",
   "execution_count": 66,
   "metadata": {},
   "outputs": [
    {
     "name": "stdout",
     "output_type": "stream",
     "text": [
      "{'name': 'Ahmad', 'age': 25, 'occupation': 'Surgeon', 'city': 'Amman'}\n"
     ]
    }
   ],
   "source": [
    "# complete the code to perform the operations listed above\n",
    "\n",
    "# Create a new dictionary with the following key-value pairs: \"name\": \"Ahmad\", \"age\": 25, \"occupation\": \"doctor\", \"country\": \"Jordan\"\n",
    "person = {\"name\": \"Ahmad\", \"age\": 25, \"occupation\": \"doctor\", \"country\": \"Jordan\"}\n",
    "\n",
    "# Add a new key-value pair with \"city\": \"Amman\"\n",
    "person.update({\"city\": \"Amman\"})\n",
    "\n",
    "# Update the occupation to \"Surgeon\"\n",
    "person[\"occupation\"] = \"Surgeon\"\n",
    "\n",
    "# Remove the \"country\" key-value pair from the dictionary.\n",
    "del person[\"country\"]\n",
    "\n",
    "# print out the updated dictionary.\n",
    "print(person)"
   ]
  },
  {
   "cell_type": "markdown",
   "metadata": {},
   "source": [
    "### Complete the folowing opertasions on the \"numbers\" set:\n",
    "\n",
    "- Check if 4 is in the set.\n",
    "- Add 5 to the set.\n",
    "- Remove 3 from the set.\n",
    "- Try to add a duplicate element to the set.\n",
    "- Create a new set that contains numbers from in the range of m+1 to m+10, where m is the maximum number in the \"numbers\" set.\n",
    "- Create a set that is the union of the two sets."
   ]
  },
  {
   "cell_type": "code",
   "execution_count": 65,
   "metadata": {},
   "outputs": [
    {
     "name": "stdout",
     "output_type": "stream",
     "text": [
      "False\n",
      "{17, 18, 19, 20, 21, 22, 23, 24, 25, 26}\n",
      "{1, 2, 5, 7, 8, 9, 16, 17, 18, 19, 20, 21, 22, 23, 24, 25, 26}\n",
      "[1, 2, 5, 7, 8, 9, 16]\n"
     ]
    }
   ],
   "source": [
    "numbers = {2, 5, 16, 8, 7, 9, 3, 1}\n",
    "\n",
    "# your code here\n",
    "\n",
    "# Check if 4 is in the set.\n",
    "print ( 4 in numbers )\n",
    "\n",
    "# Add 5 to the set.\n",
    "numbers.add(5)\n",
    "\n",
    "# Remove 3 from the set.\n",
    "numbers.remove(3)\n",
    "\n",
    "# Try to add a duplicate element to the set.\n",
    "# set will remove duplicates which can be bypassed if switched to list.\n",
    "list(numbers)\n",
    "numbers.add(16)\n",
    "set(numbers)\n",
    "\n",
    "# Create a new set that contains numbers from in the range of m+1 to m+10, where m is the maximum number in the \"numbers\" set.\n",
    "\n",
    "numbers=list(numbers)\n",
    "new_set= range(numbers[-1]+1,numbers[-1]+11)\n",
    "\n",
    "new_set=set(new_set)\n",
    "print(new_set)\n",
    "\n",
    "# Create a set that is the union of the two sets.\n",
    "union = new_set.union(numbers)\n",
    "\n",
    "# print the union of the two sets\n",
    "print(union)\n",
    "\n",
    "print(numbers)\n"
   ]
  }
 ],
 "metadata": {
  "kernelspec": {
   "display_name": "Python 3",
   "language": "python",
   "name": "python3"
  },
  "language_info": {
   "codemirror_mode": {
    "name": "ipython",
    "version": 3
   },
   "file_extension": ".py",
   "mimetype": "text/x-python",
   "name": "python",
   "nbconvert_exporter": "python",
   "pygments_lexer": "ipython3",
   "version": "3.12.4"
  }
 },
 "nbformat": 4,
 "nbformat_minor": 2
}
