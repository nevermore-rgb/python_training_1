{
 "cells": [
  {
   "cell_type": "markdown",
   "metadata": {},
   "source": [
    "<div style=\"display: flex; align-items: center;\">\n",
    "    <img src=\"../img/es_logo.png\" alt=\"title\" style=\"margin-right: 20px;\">\n",
    "    <h1>Data Analysis Using Python</h1>\n",
    "</div>"
   ]
  },
  {
   "cell_type": "markdown",
   "metadata": {},
   "source": [
    "### Submission Instructions\n",
    "\n",
    "- Complete the excercises in the notebook below.\n",
    "- Once you have completed the notebook, you should submit the completed notebook and any additional files you created for the assignment by uploading them to your github profile and sharing the github link as the submission.\n",
    "- your github repostory should contain the required files as well as a README.md file that summarizes what you have learned in this module."
   ]
  },
  {
   "cell_type": "markdown",
   "metadata": {},
   "source": [
    "### Recommended Readings:\n",
    "- Pandas : [User Guide](https://pandas.pydata.org/docs/user_guide/index.html#user-guide)\n",
    "- Concat, Merge and Join: [Documentation](https://pandas.pydata.org/docs/user_guide/merging.html)"
   ]
  },
  {
   "cell_type": "markdown",
   "metadata": {},
   "source": [
    "Download the following dataset from kaggel: [Employee Salaries Analysis](https://www.kaggle.com/datasets/sahirmaharajj/employee-salaries-analysis)\n",
    "\n",
    "Using pandas find the following:\n",
    "1. The average salary of all employees\n",
    "2. The Department with the highest average salary\n",
    "3. The average salary of employees based on gender"
   ]
  },
  {
   "cell_type": "code",
   "execution_count": 51,
   "metadata": {},
   "outputs": [
    {
     "name": "stdout",
     "output_type": "stream",
     "text": [
      "The Average of all salaries is : 90312.16574420367\n",
      "The Department with the highest average salary is : IGR\n",
      "The Gender with the highest average salary is : M\n"
     ]
    }
   ],
   "source": [
    "import pandas as pd\n",
    "\n",
    "data = pd.read_csv('Employee_Salaries.csv')\n",
    "\n",
    "# Average\n",
    "selected_colums = [\"Department\",\"Base_Salary\"]\n",
    "new_set = data[selected_colums]\n",
    "print( \"The Average of all salaries is : \" + str(new_set[\"Base_Salary\"].mean()))\n",
    "\n",
    "# Dept highest \n",
    "department_salary = new_set.groupby('Department').agg({'Base_Salary': 'mean'})\n",
    "max_dept = department_salary.max()\n",
    "print(\"The Department with the highest average salary is : \" + (department_salary.loc[department_salary[\"Base_Salary\"].eq(float(max_dept.iloc[0]))].index[0]))\n",
    "\n",
    "# Gender highest \n",
    "selected_colums = [\"Gender\",\"Base_Salary\"]\n",
    "new_set = data[selected_colums]\n",
    "gender_salary = new_set.groupby('Gender').agg({'Base_Salary': 'mean'})\n",
    "max_gender = gender_salary.max() \n",
    "\n",
    "print(\"The Gender with the highest average salary is : \" + str(gender_salary.loc[gender_salary[\"Base_Salary\"].eq(float(max_gender.iloc[0]))].index[0]))\n"
   ]
  },
  {
   "cell_type": "code",
   "execution_count": null,
   "metadata": {},
   "outputs": [],
   "source": []
  }
 ],
 "metadata": {
  "kernelspec": {
   "display_name": "Python 3",
   "language": "python",
   "name": "python3"
  },
  "language_info": {
   "codemirror_mode": {
    "name": "ipython",
    "version": 3
   },
   "file_extension": ".py",
   "mimetype": "text/x-python",
   "name": "python",
   "nbconvert_exporter": "python",
   "pygments_lexer": "ipython3",
   "version": "3.12.4"
  }
 },
 "nbformat": 4,
 "nbformat_minor": 2
}
