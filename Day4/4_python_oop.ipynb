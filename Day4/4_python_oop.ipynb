{
 "cells": [
  {
   "cell_type": "markdown",
   "metadata": {},
   "source": [
    "<div style=\"display: flex; align-items: center;\">\n",
    "    <h1>Introduction to Python</h1>\n",
    "</div>"
   ]
  },
  {
   "cell_type": "markdown",
   "metadata": {},
   "source": [
    "### Submission Instructions\n",
    "\n",
    "- Complete the excercises in the notebook below.\n",
    "- Once you have completed the notebook, you should submit the completed notebook and any additional files you created for the assignment by uploading them to your github profile and sharing the github link as the submission.\n",
    "- your github repostory should contain the required files as well as a README.md file that summarizes what you have learned in this module."
   ]
  },
  {
   "cell_type": "markdown",
   "metadata": {},
   "source": [
    "### Recommended Readings:\n",
    "- GeeckforGeeks: [Class methods vs Static methods in Python](https://www.geeksforgeeks.org/class-method-vs-static-method-python/)\n",
    "- GeeksforGeeks: [Encapsulation in Python](https://www.geeksforgeeks.org/encapsulation-in-python/)\n",
    "- Dive Into Python: [Abstract Classes](https://diveintopython.org/learn/classes/abstract-class)\n",
    "- Real Python: [Multiple Inheritance in Python](https://realpython.com/lessons/multiple-inheritance-python/)"
   ]
  },
  {
   "cell_type": "markdown",
   "metadata": {},
   "source": []
  },
  {
   "cell_type": "markdown",
   "metadata": {},
   "source": [
    "#### exercise 1:\n",
    "Create a class named `Car` with the following attributes:\n",
    "- class attribute `car_count` which counts the number of cars created.\n",
    "- instance attributes `color`, `brand`, `year`, and `price`.\n",
    "\n",
    "and the following methods:\n",
    "- a class method `get_car_count` that returns the number of cars created.\n",
    "- a static method `car_info` that returns some information about what a car is."
   ]
  },
  {
   "cell_type": "code",
   "execution_count": 1,
   "metadata": {},
   "outputs": [
    {
     "name": "stdout",
     "output_type": "stream",
     "text": [
      "1\n"
     ]
    }
   ],
   "source": [
    "class Car:\n",
    "    car_count = 0\n",
    "    \n",
    "    def __init__(self, color, brand, year, price):\n",
    "        self.color = color\n",
    "        self.brand = brand\n",
    "        self.year = year\n",
    "        self.price = price\n",
    "        Car.car_count += 1\n",
    "\n",
    "    @classmethod\n",
    "    def get_car_count(cls):\n",
    "        return cls.car_count\n",
    "    @staticmethod\n",
    "    def car_info():\n",
    "        return f\"Car has: Color, Brand, Year, Price\"\n",
    "        \n",
    "\n",
    "Car(\"Red\", \"Toyota\", \"2021\", \"19,000\")\n",
    "\n",
    "print(Car.get_car_count())\n",
    "\n"
   ]
  },
  {
   "cell_type": "markdown",
   "metadata": {},
   "source": [
    "#### exercise 2:\n",
    "Create a class named `BankAccount` with the following attributes:\n",
    "- class attribute `interest_rate` that is shared among all instances of the class.\n",
    "- instance attributes `name`, `balance`.\n",
    "\n",
    "and the following methods:\n",
    "- a class method `set_interest_rate` that sets the interest rate.\n",
    "- a class method `get_interest_rate` that returns the interest rate.\n",
    "- a method `add_money` that adds a specific amount to the balance.\n",
    "- a method `withdraw_money` that withdraws a specific amount from the balance.\n",
    "- a method `get_account_balance` that returns the current balance of the account.\n",
    "- a method `calculate_annual_interest` that returns the annual interest on the account.\n",
    "> annual interest = balance * interest rate"
   ]
  },
  {
   "cell_type": "code",
   "execution_count": 2,
   "metadata": {},
   "outputs": [
    {
     "name": "stdout",
     "output_type": "stream",
     "text": [
      "50000\n",
      "100000\n"
     ]
    }
   ],
   "source": [
    "class BankAccount:\n",
    "    interest_rate = 0.05\n",
    "\n",
    "    def __init__(self,name, balance=0):\n",
    "        self.name = name\n",
    "        self.balance = balance\n",
    "\n",
    "\n",
    "    @classmethod\n",
    "    def set_intrest_rate(cls,rate):\n",
    "        cls.interest_rate = rate\n",
    "    \n",
    "    @classmethod\n",
    "    def get_intrest_rate(cls):\n",
    "        return cls.interest_rate\n",
    "    \n",
    "    def add_money(self,amount):\n",
    "        self.balance += amount\n",
    "\n",
    "    def withdraw_money(self,draw):\n",
    "        self.balance -= draw\n",
    "    \n",
    "    def get_account_balance(self):\n",
    "        return self.balance\n",
    "    \n",
    "    def calculate_annual_interest(self):\n",
    "        return self.balance * self.interest_rate\n",
    "    \n",
    "\n",
    "Account1 = BankAccount(\"John\", 50000)\n",
    "\n",
    "BankAccount.set_intrest_rate(2)\n",
    "\n",
    "print(Account1.get_account_balance())\n",
    "print(Account1.calculate_annual_interest())\n",
    "\n",
    "\n"
   ]
  },
  {
   "cell_type": "markdown",
   "metadata": {},
   "source": [
    "#### exercise 3:\n",
    "Create a class named `Person` with the following specifications:\n",
    "- private instance attributes `__name`, `__last_name`, `__age`.\n",
    "- create methods using `@property` decorator to return the values of the attributes.\n",
    "- create methods using `@<property_name>.setter` decorator to set the values of the attributes."
   ]
  },
  {
   "cell_type": "code",
   "execution_count": 3,
   "metadata": {},
   "outputs": [],
   "source": [
    "class Person:\n",
    "    def __init__(self, name, last_name, age):\n",
    "        self.__name = name\n",
    "        self.__last_name = last_name\n",
    "        self.__age = age\n",
    "\n",
    "    @property\n",
    "    def name(self):\n",
    "        return self.__name\n",
    "    \n",
    "    @property\n",
    "    def last_name(self):\n",
    "        return self.__last_name\n",
    "\n",
    "    @property\n",
    "    def age(self):\n",
    "        return self.__age\n",
    "    \n",
    "    @name.setter\n",
    "    def name(self, name):\n",
    "        self.__name = name\n",
    "\n",
    "    @last_name.setter\n",
    "    def last_name(self, last_name):\n",
    "        self.__last_name = last_name\n",
    "\n",
    "    @age.setter\n",
    "    def age(self, age):\n",
    "        self.__age = age"
   ]
  },
  {
   "cell_type": "markdown",
   "metadata": {},
   "source": [
    "#### exercise 4:\n",
    "Create a class named `Employee` with the following attributes:\n",
    "- instance attributes `name`, `salary`.\n",
    "\n",
    "Create a class named `Manager` with the following attributes:\n",
    "- instance attribute `department`.\n",
    "\n",
    "Create a class Executive that inherits from both `Employee` and `Manager` classes and has the following attributes:\n",
    "- instance attributes `company_car`, `bonus`.\n",
    "- implement an appropriate `__str__` method to print the information about the executive."
   ]
  },
  {
   "cell_type": "code",
   "execution_count": 23,
   "metadata": {},
   "outputs": [
    {
     "name": "stdout",
     "output_type": "stream",
     "text": [
      "Executive name: Mike, Salary: 5000, Department:Collab, Bonus:700, Company car: BMW\n"
     ]
    }
   ],
   "source": [
    "class Employee:\n",
    "    def __init__(self, name, salary):\n",
    "        self.name = name\n",
    "        self.salary = salary\n",
    "        \n",
    "class Manager:\n",
    "    def __init__(self, department):\n",
    "        self.department = department\n",
    "\n",
    "    def set_depart(self,passed_department):\n",
    "        self.department = passed_department\n",
    "        \n",
    "            \n",
    "class Executive(Employee , Manager):\n",
    "    def __init__(self, company_car, bonus, name, salary, department):\n",
    "        self.company_car = company_car\n",
    "        self.bonus = bonus\n",
    "        super().__init__(name, salary)\n",
    "        super().set_depart(department)\n",
    "        \n",
    "        \n",
    "\n",
    "    def __str__(self):\n",
    "        return f\"Executive name: {self.name}, Salary: {self.salary}, Department:{self.department}, Bonus:{self.bonus}, Company car: {self.company_car}\"\n",
    "\n",
    "\n",
    "exec1 = Executive(\"BMW\", 700, \"Mike\", 5000, \"Collab\")\n",
    "print(exec1)\n",
    "\n"
   ]
  },
  {
   "cell_type": "markdown",
   "metadata": {},
   "source": [
    "#### exercise 5:\n",
    "Using method chaining, create a class `Person` with the following attributes:\n",
    "- instance attributes `name`, `age`.\n",
    "\n",
    "and the following methods:\n",
    "- a method `set_name` that sets the name of the person and returns the instance.\n",
    "- a method `set_age` that sets the age of the person and returns the instance.\n",
    "- a method `get_person_info` that returns the information about the person."
   ]
  },
  {
   "cell_type": "code",
   "execution_count": 21,
   "metadata": {},
   "outputs": [
    {
     "name": "stdout",
     "output_type": "stream",
     "text": [
      "Name is John, who is 20 years old.\n"
     ]
    }
   ],
   "source": [
    "class Person:\n",
    "    def __init__(self, name, age):\n",
    "        self.name = name\n",
    "        self.age = age\n",
    "    \n",
    "    def set_name(self,name):\n",
    "        self.name = name\n",
    "        return self\n",
    "    \n",
    "    def set_age(self,age):\n",
    "        self.age = age\n",
    "        return self\n",
    "    \n",
    "    def get_person_info(self):\n",
    "        return f\"Name is {self.name}, who is {self.age} years old.\"\n",
    "    \n",
    "\n",
    "print(Person(\"John\", 20).get_person_info())\n",
    "\n"
   ]
  }
 ],
 "metadata": {
  "kernelspec": {
   "display_name": "Python 3",
   "language": "python",
   "name": "python3"
  },
  "language_info": {
   "codemirror_mode": {
    "name": "ipython",
    "version": 3
   },
   "file_extension": ".py",
   "mimetype": "text/x-python",
   "name": "python",
   "nbconvert_exporter": "python",
   "pygments_lexer": "ipython3",
   "version": "3.12.4"
  }
 },
 "nbformat": 4,
 "nbformat_minor": 2
}
