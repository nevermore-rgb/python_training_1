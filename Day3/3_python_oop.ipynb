{
 "cells": [
  {
   "cell_type": "markdown",
   "metadata": {},
   "source": [
    "<div style=\"display: flex; align-items: center;\">\n",
    "    <img src=\"../img/es_logo.png\" alt=\"title\" style=\"margin-right: 20px;\">\n",
    "    <h1>Introduction to Python</h1>\n",
    "</div>"
   ]
  },
  {
   "cell_type": "markdown",
   "metadata": {},
   "source": [
    "### Submission Instructions\n",
    "\n",
    "- Complete the excercises in the notebook below.\n",
    "- Once you have completed the notebook, you should submit the completed notebook and any additional files you created for the assignment by uploading them to your github profile and sharing the github link as the submission.\n",
    "- your github repostory should contain the required files as well as a README.md file that summarizes what you have learned in this module."
   ]
  },
  {
   "cell_type": "markdown",
   "metadata": {},
   "source": [
    "### Recommended Readings:\n",
    "- W3Schools Python: [Classes and Objects](https://www.w3schools.com/python/python_classes.asp)\n",
    "- Real Python: [Object-Oriented Programming (OOP) in Python 3](https://realpython.com/python3-object-oriented-programming/)\n",
    "- Python Docs: [Classes](https://docs.python.org/3/tutorial/classes.html)\n",
    "- Geeks for Geeks: [Python Classes and Objects](https://www.geeksforgeeks.org/python-classes-and-objects/)"
   ]
  },
  {
   "cell_type": "markdown",
   "metadata": {},
   "source": [
    "#### Exercise 1\n",
    "create a class called `Point` that takes two parameters `x` and `y` and stores them as attributes. Then create a method called `distance` that takes another `Point` object and calculates the distance between the two points.\n",
    "\n",
    "Create an appropriate `__str__` method for the class."
   ]
  },
  {
   "cell_type": "code",
   "execution_count": 1,
   "metadata": {},
   "outputs": [
    {
     "name": "stdout",
     "output_type": "stream",
     "text": [
      "Cords are : (1, 4)\n",
      "3.0\n"
     ]
    }
   ],
   "source": [
    "import math\n",
    "\n",
    "class Point:\n",
    "    def __init__(self, x, y):\n",
    "        self.x = x\n",
    "        self.y = y\n",
    "    \n",
    "    def distance(self,other):\n",
    "        return math.sqrt((other.x - self.x)**2 +(other.y - self.y)**2 )\n",
    "  \n",
    "    def __str__(self):\n",
    "        return f\"Cords are : {self.x, self.y}\"\n",
    "\n",
    "point1 = Point(1,4)\n",
    "point2 = Point(4,4)\n",
    "\n",
    "print(point1)\n",
    "\n",
    "print(point1.distance(point2))   \n",
    "    "
   ]
  },
  {
   "cell_type": "markdown",
   "metadata": {},
   "source": [
    "#### Exercise 2\n",
    "- create a class called `Line` that takes two parameters `point1` and `point2` and stores them as attributes. Then create a method called `length` that calculates the length of the line.\n",
    "- the `Line` class should also have a method called `slope` that calculates the slope of the line.\n",
    "- create a method called `point_on_line` that takes a `Point` object and returns `True` if the point is on the line and `False` otherwise.\n",
    "\n",
    "Create an appropriate `__str__` method for the class.\n"
   ]
  },
  {
   "cell_type": "code",
   "execution_count": 2,
   "metadata": {},
   "outputs": [
    {
     "name": "stdout",
     "output_type": "stream",
     "text": [
      "3.0\n",
      "0.0\n",
      "False\n"
     ]
    }
   ],
   "source": [
    "class Line(Point):\n",
    "    \n",
    "    def __init__(self, point1, point2):\n",
    "        self.point1 = point1\n",
    "        self.point2 = point2\n",
    "    \n",
    "    def length(self):\n",
    "        return self.point1.distance(self.point2)\n",
    "    \n",
    "    def slope(self):\n",
    "        try:\n",
    "            return (self.point2.y - self.point1.y) / (self.point2.x - self.point1.x)\n",
    "        except:\n",
    "            return \"The distance is equal or smaller than 1\"\n",
    "        \n",
    "    def intersect(self):\n",
    "        try:\n",
    "            return (self.point1.y - (self.point1.x * self.slope()))\n",
    "        except:\n",
    "            return \"The distance is equal or smaller than 1\"\n",
    "    \n",
    "    def point_on_line(self,point:Point):\n",
    "        if point.y == ((self.slope() * point.x) + self.intersect()): \n",
    "            return True\n",
    "        else:\n",
    "            return False\n",
    "\n",
    "\n",
    "    def __str__(self):\n",
    "       return f\"Line difinition for {self.point1.x} {self.point2.y}\"\n",
    "      \n",
    "line=Line(point1,point2)\n",
    "point3=Point(4,7)\n",
    "\n",
    "print(line.length())\n",
    "print(line.slope())\n",
    "print(line.point_on_line(point3))\n",
    "\n"
   ]
  },
  {
   "cell_type": "markdown",
   "metadata": {},
   "source": [
    "#### Exercise 3\n",
    "- create a class called `Shape` that takes a list of `Lines` and stores them as an attribute. Then create a method called `perimeter` that calculates the perimeter of the shape.\n",
    "- the `Shape` class should have a method called `draw` that draws the shape using `matplotlib`. use the function `draw_lines` below to draw the lines.\n",
    "- create a method called `point_on_perimeter` that takes a `Point` object and returns `True` if the point is on the perimeter of the shape and `False` otherwise.\n",
    "\n",
    "Create an appropriate `__str__` method for the class."
   ]
  },
  {
   "cell_type": "code",
   "execution_count": 3,
   "metadata": {},
   "outputs": [],
   "source": [
    "import matplotlib.pyplot as plt\n",
    "\n",
    "def draw_lines(lines, color):\n",
    "    for line in lines:\n",
    "        plt.plot([line.point1.x, line.point2.x], [line.point1.y, line.point2.y], color)\n",
    "    \n",
    "    plt.axis('equal')\n",
    "    plt.show()"
   ]
  },
  {
   "cell_type": "code",
   "execution_count": 4,
   "metadata": {},
   "outputs": [
    {
     "name": "stdout",
     "output_type": "stream",
     "text": [
      "The Perimeter is: 12.0\n",
      "True\n"
     ]
    },
    {
     "data": {
      "image/png": "[encoded data removed]",
      "text/plain": [
       "<Figure size 640x480 with 1 Axes>"
      ]
     },
     "metadata": {},
     "output_type": "display_data"
    }
   ],
   "source": [
    "import matplotlib.pyplot as plt\n",
    "\n",
    "class Shape(Line):\n",
    "    def __init__(self,line_list):\n",
    "        self.lines_list = line_list\n",
    "\n",
    "    def perimeter(self):\n",
    "        per = 0\n",
    "        for i in self.lines_list:\n",
    "            l = i.length()\n",
    "            per = per + l\n",
    "        return per\n",
    "        \n",
    "    def draw_lines(self, color):\n",
    "        for line in self.lines_list:\n",
    "            plt.plot([line.point1.x, line.point2.x], [line.point1.y, line.point2.y], color)\n",
    "        plt.axis('equal')\n",
    "        plt.show()\n",
    "\n",
    "    def point_on_perimeter(self,point):\n",
    "        for i in self.lines_list:\n",
    "            if(i.point_on_line(point)):\n",
    "                return True\n",
    "        return False\n",
    "                \n",
    "line1= Line(Point(1,1),Point(1,4))\n",
    "line2= Line(Point(4,4),Point(4,1))\n",
    "line3= Line(Point(1,1),Point(4,1))\n",
    "line4= Line(Point(1,4),Point(4,4))\n",
    "\n",
    "list_lines = [line1, line2, line3, line4]\n",
    "\n",
    "square = Shape(list_lines)\n",
    "\n",
    "print( \"The Perimeter is: \" + str(square.perimeter()))\n",
    "print( square.point_on_perimeter(Point(2,4)) )\n",
    "square.draw_lines(\"red\")"
   ]
  },
  {
   "cell_type": "markdown",
   "metadata": {},
   "source": [
    "create the following classes:\n",
    "- `Rectangle` that inherits from `Shape` and takes three parameters `width` and `height` and a Point object `center`. The lines of the rectangle should be calculated using the `width`, `height` and `center` parameters. Then create a method called `area` that calculates the area of the rectangle.\n",
    "- `Square` that inherits from `Rectangle` and takes two parameter `side` and `center` and stores it as an attribute.\n",
    "- `Circle` that inherits from `Shape` and takes 3 parameters `radius` and `center` and an optional `num_sides` with a default value of 20. The lines of the circle should be calculated using the `radius`, `center` and `num_sides` parameters. Then create a method called `area` that calculates the area of the circle.\n",
    "- for the `Circle` class, override the `perimeter` and `point_on_perimeter` methods to work with circles (it should find if point on perimeter in the logical sense rather than the visual representatiobn that uses lines).\n",
    "\n",
    "Create an appropriate `__str__` method for each one of the classes."
   ]
  },
  {
   "cell_type": "code",
   "execution_count": 16,
   "metadata": {},
   "outputs": [
    {
     "data": {
      "image/png": "[encoded data removed]",
      "text/plain": [
       "<Figure size 640x480 with 1 Axes>"
      ]
     },
     "metadata": {},
     "output_type": "display_data"
    },
    {
     "name": "stdout",
     "output_type": "stream",
     "text": [
      "The Area is: 21\n"
     ]
    },
    {
     "data": {
      "image/png": "[encoded data removed]",
      "text/plain": [
       "<Figure size 640x480 with 1 Axes>"
      ]
     },
     "metadata": {},
     "output_type": "display_data"
    },
    {
     "data": {
      "image/png": "[encoded data removed]",
      "text/plain": [
       "<Figure size 640x480 with 1 Axes>"
      ]
     },
     "metadata": {},
     "output_type": "display_data"
    }
   ],
   "source": [
    "\n",
    "import numpy as np \n",
    "\n",
    "class Rectangle(Shape):\n",
    "    def __init__(self, width, height,center):\n",
    "        self.width = width\n",
    "        self.height = height\n",
    "        self.center = center\n",
    "\n",
    "    def draw_rect(self):\n",
    "        new_x = self.center.x + self.height\n",
    "        new_y = self.center.y + self.width\n",
    "\n",
    "        vertical_line1 = Line(self.center,Point(self.center.x,new_y))\n",
    "        vertical_line2 = Line(Point(new_x,self.center.y),Point(new_x,new_y))\n",
    "        horizontal_line1 = Line(self.center,Point(new_x, self.center.y))\n",
    "        horizontal_line2 = Line(Point(self.center.x, new_y),Point(new_x, new_y))    \n",
    "       \n",
    "        self.lines_list = [vertical_line1,vertical_line2,horizontal_line1,horizontal_line2]\n",
    "             \n",
    "        self.draw_lines(\"blue\")\n",
    "\n",
    "    def area(self):\n",
    "        return self.width * self.height\n",
    "\n",
    "rect = Rectangle(3,7,Point(1,1))\n",
    "rect.draw_rect()\n",
    "print(f\"The Area is: {rect.area()}\")\n",
    "\n",
    "class Square(Rectangle):\n",
    "    \n",
    "    def __init__(self, side, center):\n",
    "        self.side = side\n",
    "        self.center = center\n",
    "\n",
    "    def draw_sqr(self):\n",
    "        side = self.center.x + self.side\n",
    "        \n",
    "        vertical_line1 = Line(self.center,Point(self.center.x,side))\n",
    "        vertical_line2 = Line(Point(side,self.center.y),Point(side,side))\n",
    "        horizontal_line1 = Line(self.center,Point(side, self.center.y))\n",
    "        horizontal_line2 = Line(Point(self.center.x, side),Point(side, side))    \n",
    "       \n",
    "        self.lines_list = [vertical_line1,vertical_line2,horizontal_line1,horizontal_line2]\n",
    "             \n",
    "        self.draw_lines(\"green\")\n",
    "      \n",
    "sqr = Square(5,Point(1,1))\n",
    "sqr.draw_sqr()\n",
    "\n",
    "\n",
    "class Circle(Shape):\n",
    "    def __init__(self,radius, center, num_sides = 20):\n",
    "        self.radius = radius\n",
    "        self.center = center\n",
    "        self.num_sides = num_sides\n",
    "\n",
    "        \n",
    "        angle = np.exp(1j * 2 * np.pi / num_sides)\n",
    "        angles = np.cumprod(np.ones(num_sides + 1) * angle)\n",
    "        x, y = np.real(angles), np.imag(angles)\n",
    "        plt.plot(x, y)\n",
    "\n",
    "cir = Circle(3,Point(1,6))\n"
   ]
  },
  {
   "cell_type": "markdown",
   "metadata": {},
   "source": [
    "#### Exercise 4\n",
    "Create a program that simulates a simple employee management system. The program should allow the user to perform the following tasks:\n",
    "- add a new employee either a Manager or a Developer to the company.\n",
    "- display the list of employees in the company, along with their details.\n",
    "- calculate the total salary of all employees in the company.\n",
    "\n",
    "Create the following classes:\n",
    "- `Employee` class that takes three parameters `name`, `age` and `salary` and stores them as attributes. \n",
    "- `Manager` class that inherits from `Employee` and takes an additional parameter `department` and stores it as an attribute.\n",
    "- `Developer` class that inherits from `Employee` and takes an additional parameter `programming_language` and stores it as an attribute.\n",
    "\n",
    "Create a class called `Company` with the following methods:\n",
    "- `add_employee` that takes an `Employee` object and adds it to the list of employees.\n",
    "- `display_employees` that displays the list of employees in the company.\n",
    "- `calculate_total_salary` that calculates the total salary of all employees in the company.\n",
    "\n",
    "Use user input to allow the user to perform the above tasks.\n",
    "\n",
    "##### Example Output\n",
    "```console\n",
    "Welcome to Estarta Solutions Employee Management System\n",
    "\n",
    "What task would you like to perform?\n",
    "1. Add a new employee\n",
    "2. Display employees\n",
    "3. Calculate total salary\n",
    "4. Exit\n",
    "\n",
    "Enter your choice: 1\n",
    "\n",
    "Enter employee type (Manager/Developer): Manager\n",
    "Enter employee name: Ali\n",
    "Enter employee age: 35\n",
    "Enter employee salary: 5000\n",
    "Enter employee department: IT\n",
    "\n",
    "Employee added successfully!\n",
    "\n",
    "What task would you like to perform?\n",
    "1. Add a new employee\n",
    "2. Display employees\n",
    "3. Calculate total salary\n",
    "4. Exit\n",
    "\n",
    "Enter your choice: 1\n",
    "\n",
    "Enter employee type (Manager/Developer): Developer\n",
    "Enter employee name: Sara\n",
    "Enter employee age: 28\n",
    "Enter employee salary: 4000\n",
    "Enter employee programming language: Python\n",
    "\n",
    "Employee added successfully!\n",
    "\n",
    "What task would you like to perform?\n",
    "1. Add a new employee\n",
    "2. Display employees\n",
    "3. Calculate total salary\n",
    "4. Exit\n",
    "\n",
    "Enter your choice: 2\n",
    "\n",
    "Ali, a 35 year old Manager in the IT department with a salary of 5000\n",
    "Sara, a 28 year old Developer in Python with a salary of 4000\n",
    "\n",
    "What task would you like to perform?\n",
    "1. Add a new employee\n",
    "2. Display employees\n",
    "3. Calculate total salary\n",
    "4. Exit\n",
    "\n",
    "Enter your choice: 3\n",
    "\n",
    "Total salary of all employees is 9000\n",
    "\n",
    "What task would you like to perform?\n",
    "1. Add a new employee\n",
    "2. Display employees\n",
    "3. Calculate total salary\n",
    "4. Exit\n",
    "\n",
    "Enter your choice: 4\n",
    "\n",
    "Thank you for using Estarta Solutions Employee Management System.\n",
    "Goodbye!\n",
    "```"
   ]
  },
  {
   "cell_type": "markdown",
   "metadata": {},
   "source": []
  }
 ],
 "metadata": {
  "kernelspec": {
   "display_name": "Python 3",
   "language": "python",
   "name": "python3"
  },
  "language_info": {
   "codemirror_mode": {
    "name": "ipython",
    "version": 3
   },
   "file_extension": ".py",
   "mimetype": "text/x-python",
   "name": "python",
   "nbconvert_exporter": "python",
   "pygments_lexer": "ipython3",
   "version": "3.12.4"
  }
 },
 "nbformat": 4,
 "nbformat_minor": 2
}
