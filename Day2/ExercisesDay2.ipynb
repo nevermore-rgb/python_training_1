{
 "cells": [
  {
   "cell_type": "markdown",
   "metadata": {},
   "source": [
    "### Excercise 1:\n",
    "Write a Python function that takes two integers as input, and then prints the sum, difference, and product of the two numbers."
   ]
  },
  {
   "cell_type": "code",
   "execution_count": 6,
   "metadata": {},
   "outputs": [
    {
     "name": "stdout",
     "output_type": "stream",
     "text": [
      "The summation of 3 and 9 is: 12\n",
      "The difference between 3 and 9 is: 6\n",
      "The product of 3 and 9 is: 27\n"
     ]
    }
   ],
   "source": [
    "def calculate(int1: int, int2: int):\n",
    "    sum = int1 + int2\n",
    "    print(f\"The summation of {int1} and {int2} is: \" + str(sum))\n",
    "    diff = int1 - int2\n",
    "    print(f\"The difference between {int1} and {int2} is: \" + str(abs(diff)))\n",
    "    prod = int1 * int2\n",
    "    print(f\"The product of {int1} and {int2} is: \" + str(prod)) \n",
    "\n",
    "calculate(3,9)"
   ]
  },
  {
   "cell_type": "markdown",
   "metadata": {},
   "source": [
    "### Excercise 2:\n",
    "Write a program that prints the numbers from 1 to 50. For multiples of three, print \"Fizz\" instead of the number, and for multiples of five, print \"Buzz\". For numbers that are multiples of both three and five, print \"FizzBuzz\".\n",
    "\n",
    "The solution to this problem should be uploaded within a file fizzbuzz.py"
   ]
  },
  {
   "cell_type": "markdown",
   "metadata": {},
   "source": [
    "### Excercise 3:\n",
    "Create a Python module, called \"factorial\", that contains two functions. The first function factorial(n: int) -> int should return the factorial of the number n. The second function list_factorial([n1, n2, n3, ...]) -> List[int] should return a list of factorials of the numbers in the input list."
   ]
  },
  {
   "cell_type": "code",
   "execution_count": 47,
   "metadata": {},
   "outputs": [
    {
     "name": "stdout",
     "output_type": "stream",
     "text": [
      "120\n",
      "[1, 2, 6, 24, 120]\n"
     ]
    }
   ],
   "source": [
    "##from factorial import factorial, list_factorial\n",
    "\n",
    "\n",
    "def factorial(n:int):\n",
    "    if n == 1:\n",
    "        return 1\n",
    "    else:\n",
    "        return n * factorial(n - 1)\n",
    "\n",
    "def list_factorial(list):\n",
    "    new_list = []\n",
    "    for item in list:\n",
    "        new_list.append(factorial(item))\n",
    "    return new_list\n",
    "\n",
    "print(factorial(5))\n",
    "\n",
    "print(list_factorial([1,2,3,4,5]))"
   ]
  },
  {
   "cell_type": "markdown",
   "metadata": {},
   "source": [
    "### Excercise 4:\n",
    "Write a function that takes a number as input and returns True if the number is prime, and False otherwise. A prime number is a number greater than 1 that has no positive divisors other than 1 and itself.\n"
   ]
  },
  {
   "cell_type": "code",
   "execution_count": 21,
   "metadata": {},
   "outputs": [
    {
     "name": "stdout",
     "output_type": "stream",
     "text": [
      "False\n",
      "False\n"
     ]
    }
   ],
   "source": [
    "def is_prime( n: int ):\n",
    "    list = [2,3,5,7,9,11]\n",
    "    \n",
    "    if n < 2:\n",
    "        return False\n",
    "    \n",
    "    for item in list:\n",
    "        if ( n == item ):\n",
    "            continue\n",
    "        elif ( n % item == 0 ):\n",
    "            return False\n",
    "    return True\n",
    "   \n",
    "print(is_prime(121))\n",
    "print(is_prime(8))"
   ]
  },
  {
   "cell_type": "markdown",
   "metadata": {},
   "source": [
    "### Excercise 5:\n",
    "Create a Python module named \"math_utils.py\" that contains the following functions:\n",
    "\n",
    "- add - returns the sum of two numbers\n",
    "- sub - returns the difference between two numbers\n",
    "- mul - returns the product of two numbers\n",
    "- div - returns the division of two numbers\n",
    "\n",
    "     "
   ]
  },
  {
   "cell_type": "code",
   "execution_count": 1,
   "metadata": {},
   "outputs": [
    {
     "name": "stdout",
     "output_type": "stream",
     "text": [
      "Addition: 15\n",
      "Subtraction: 5\n",
      "Multiplication: 50\n",
      "Division: 2.0\n"
     ]
    }
   ],
   "source": [
    "import math_utils\n",
    "\n",
    "a = 10\n",
    "b = 5\n",
    "\n",
    "print(f\"Addition: {math_utils.add(a, b)}\")        \n",
    "print(f\"Subtraction: {math_utils.subtract(a, b)}\")  \n",
    "print(f\"Multiplication: {math_utils.multiply(a, b)}\")  \n",
    "print(f\"Division: {math_utils.divide(a, b)}\") "
   ]
  },
  {
   "cell_type": "markdown",
   "metadata": {},
   "source": [
    "### Excercise 6:\n",
    "Write a Python program that prompts the user to enter a number, and then prints the number of prime numbers that exist up to the number that was entered.\n",
    "\n",
    "The solution to this problem should be uploaded within a file prime_numbers.py"
   ]
  }
 ],
 "metadata": {
  "kernelspec": {
   "display_name": "Python 3",
   "language": "python",
   "name": "python3"
  },
  "language_info": {
   "codemirror_mode": {
    "name": "ipython",
    "version": 3
   },
   "file_extension": ".py",
   "mimetype": "text/x-python",
   "name": "python",
   "nbconvert_exporter": "python",
   "pygments_lexer": "ipython3",
   "version": "3.12.4"
  }
 },
 "nbformat": 4,
 "nbformat_minor": 2
}
